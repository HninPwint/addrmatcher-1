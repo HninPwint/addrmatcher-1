{
 "cells": [
  {
   "cell_type": "code",
   "execution_count": 30,
   "metadata": {},
   "outputs": [],
   "source": [
    "import os\n",
    "import glob\n",
    "import time\n",
    "import numpy as np\n",
    "from pyarrow import fs\n",
    "import pyarrow.parquet as pq\n",
    "from sklearn.neighbors import BallTree"
   ]
  },
  {
   "cell_type": "code",
   "execution_count": 35,
   "metadata": {},
   "outputs": [],
   "source": [
    "is_index_file_exist = os.path.isfile(\"../../../data/Master/New/index.parquet\")\n",
    "files = glob.glob(os.path.join('../../../','data','Master', 'New', '*[0-9].parquet')) if is_index_file_exist else []\n",
    "\n",
    "## Interested Dimensions in the GNAF Files\n",
    "interested_dims = ['LATITUDE', 'LONGITUDE', 'FULL_ADDRESS', 'STATE', 'SA4_NAME_2016',\n",
    "                  'LGA_NAME_2016', 'SSC_NAME_2016', 'SA3_NAME_2016', 'SA2_NAME_2016', 'ADDRESS_DETAIL_PID']\n",
    "\n",
    "local = fs.LocalFileSystem()"
   ]
  },
  {
   "cell_type": "code",
   "execution_count": 36,
   "metadata": {},
   "outputs": [],
   "source": [
    "# Set Minimum and Maximum lat for all properties within Australia\n",
    "lat_min = -43.58301104\n",
    "lat_max = -9.23000371\n",
    "lon_min = 96.82159219\n",
    "lon_max = 167.99384663\n",
    "\n",
    "# 1 lat equals 110.574km\n",
    "deg = 110.574 \n",
    "\n",
    "# Conversion Rate - radians to kilometer\n",
    "rad_to_km = 6371"
   ]
  },
  {
   "cell_type": "code",
   "execution_count": 37,
   "metadata": {},
   "outputs": [],
   "source": [
    "def load_parquet(lat, lon, distance):\n",
    "    \n",
    "    df = pq.read_table(\n",
    "        files, \n",
    "        filesystem = local,\n",
    "        columns = interested_dims,\n",
    "        filters=\n",
    "        [('LATITUDE', '>=', lat - distance),\n",
    "         ('LATITUDE', '<=', lat + distance),\n",
    "         ('LONGITUDE', '>=', lon - distance),\n",
    "         ('LONGITUDE', '<=', lon + distance)   \n",
    "        ]).\\\n",
    "        to_pandas()\n",
    "    \n",
    "    return df"
   ]
  },
  {
   "cell_type": "code",
   "execution_count": 38,
   "metadata": {},
   "outputs": [],
   "source": [
    "def ensure_lat_lon_within_range(lat, lon):\n",
    "    \n",
    "    # Ensure Latitudge within the AU range\n",
    "    lat = max(lat, lat_min)\n",
    "    lat = min(lat, lat_max)\n",
    "    \n",
    "    # Ensure longitutde within the AU range\n",
    "    lon = max(lon, lon_min)\n",
    "    lon = min(lon, lon_max)\n",
    "    \n",
    "    return lat,lon"
   ]
  },
  {
   "cell_type": "code",
   "execution_count": 39,
   "metadata": {},
   "outputs": [],
   "source": [
    "def filter_for_rows_within_mid_distance(df, lat, lon, mid_distance):\n",
    "    \n",
    "    mid_df = df[df.LATITUDE.between(lat - middle_distance, lat + middle_distance) &\n",
    "            df.LONGITUDE.between(lon - middle_distance, lon + middle_distance)]\n",
    "    \n",
    "    return mid_df"
   ]
  },
  {
   "cell_type": "code",
   "execution_count": 41,
   "metadata": {},
   "outputs": [],
   "source": [
    "def find_nearest_address(lat, lon, km = None , n = 1):\n",
    "    \n",
    "    ## 1. Initial distance setting according to lat/lon arguments\n",
    "    lat , lon = ensure_lat_lon_within_range(lat, lon) \n",
    "    min_distance = 0\n",
    "    distance = (km if km else 1) / deg\n",
    "    \n",
    "    \n",
    "    ## 2. Make the first load of GNAF dataset\n",
    "    gnaf_df = load_parquet(lat, lon, distance)\n",
    "   \n",
    "    # 2.a If the desired count of addresses not exist, increase the radius  \n",
    "    while (gnaf_df.shape[0] < n):              \n",
    "        min_distance = distance\n",
    "        distance *= 2 \n",
    "        \n",
    "        gnaf_df = load_parquet(lat, lon, distance)\n",
    "        print(\"gnaf_df.shape: First Load: \",gnaf_df.shape)\n",
    "      \n",
    "           \n",
    "    # 2.b Keep reducing the size of rows if more than 10k adddresses are found within the radius\n",
    "    # Take the median distance to reduce\n",
    "    # This is to limit the number of datapoint to build the Ball tree in the next step\n",
    "    while (gnaf_df.shape[0] >= n + 10000):\n",
    "        middle_distance = (distance - min_distance)/2\n",
    "        gnaf_df = filter_for_rows_within_mid_distance(gnaf_df, lat, lon, middle_distance)\n",
    "        print(\"gnaf_df.shape: Reduced Load: \", gnaf_df.shape)\n",
    "        distance = middle_distance        \n",
    "    print(\"gnaf_df.shape: Final Load: \", gnaf_df.shape)\n",
    "    \n",
    "    \n",
    "    ## 3. Build the Ball Tree and Query for the nearest within k distance\n",
    "    ball_tree = BallTree(np.deg2rad(gnaf_df[['LATITUDE', 'LONGITUDE']].values), metric='haversine')\n",
    "    distances, indices = ball_tree.query(np.deg2rad(np.c_[lat, lon]), k= min(n, gnaf_df.shape[0])) \n",
    "    # Get indices of the search result, Extract pid and calculate distance(km)\n",
    "    indices = indices[0].tolist()\n",
    "    pids = gnaf_df.ADDRESS_DETAIL_PID.iloc[indices].tolist()       \n",
    "    distance_map = dict(zip(pids ,[distance * rad_to_km for distance in distances[0]]))\n",
    "    \n",
    "    \n",
    "    ## 4. Filter the GNAF dataset by address_detail_pid and Extract the interested columns\n",
    "    bool_list = gnaf_df['ADDRESS_DETAIL_PID'].isin(pids)\n",
    "    final_gnaf_df = gnaf_df[bool_list]\n",
    "   \n",
    "    final_gnaf_df = final_gnaf_df[interested_dims]\n",
    "    final_gnaf_df['DISTANCE'] = final_gnaf_df['ADDRESS_DETAIL_PID'].map(distance_map) \n",
    "\n",
    "    return final_gnaf_df.sort_values('DISTANCE')"
   ]
  },
  {
   "cell_type": "code",
   "execution_count": 42,
   "metadata": {},
   "outputs": [
    {
     "name": "stdout",
     "output_type": "stream",
     "text": [
      "gnaf_df.shape: First Load:  (0, 10)\n",
      "gnaf_df.shape: First Load:  (0, 10)\n",
      "gnaf_df.shape: First Load:  (90, 10)\n",
      "gnaf_df.shape: Final Load:  (90, 10)\n"
     ]
    },
    {
     "data": {
      "text/html": [
       "<div>\n",
       "<style scoped>\n",
       "    .dataframe tbody tr th:only-of-type {\n",
       "        vertical-align: middle;\n",
       "    }\n",
       "\n",
       "    .dataframe tbody tr th {\n",
       "        vertical-align: top;\n",
       "    }\n",
       "\n",
       "    .dataframe thead th {\n",
       "        text-align: right;\n",
       "    }\n",
       "</style>\n",
       "<table border=\"1\" class=\"dataframe\">\n",
       "  <thead>\n",
       "    <tr style=\"text-align: right;\">\n",
       "      <th></th>\n",
       "      <th>LATITUDE</th>\n",
       "      <th>LONGITUDE</th>\n",
       "      <th>FULL_ADDRESS</th>\n",
       "      <th>STATE</th>\n",
       "      <th>SA4_NAME_2016</th>\n",
       "      <th>LGA_NAME_2016</th>\n",
       "      <th>SSC_NAME_2016</th>\n",
       "      <th>SA3_NAME_2016</th>\n",
       "      <th>SA2_NAME_2016</th>\n",
       "      <th>ADDRESS_DETAIL_PID</th>\n",
       "      <th>DISTANCE</th>\n",
       "    </tr>\n",
       "  </thead>\n",
       "  <tbody>\n",
       "    <tr>\n",
       "      <th>0</th>\n",
       "      <td>-33.388910</td>\n",
       "      <td>150.106971</td>\n",
       "      <td>110 SKELLY ROAD LIDSDALE NSW 2790</td>\n",
       "      <td>NSW</td>\n",
       "      <td>Central West</td>\n",
       "      <td>Lithgow (C)</td>\n",
       "      <td>Lidsdale</td>\n",
       "      <td>Lithgow - Mudgee</td>\n",
       "      <td>Lithgow Region</td>\n",
       "      <td>GANSW720609381</td>\n",
       "      <td>6.348317</td>\n",
       "    </tr>\n",
       "    <tr>\n",
       "      <th>27</th>\n",
       "      <td>-33.341074</td>\n",
       "      <td>150.100713</td>\n",
       "      <td>612 WOLGAN ROAD LIDSDALE NSW 2790</td>\n",
       "      <td>NSW</td>\n",
       "      <td>Central West</td>\n",
       "      <td>Lithgow (C)</td>\n",
       "      <td>Lidsdale</td>\n",
       "      <td>Lithgow - Mudgee</td>\n",
       "      <td>Lithgow Region</td>\n",
       "      <td>GANSW716746181</td>\n",
       "      <td>6.826609</td>\n",
       "    </tr>\n",
       "  </tbody>\n",
       "</table>\n",
       "</div>"
      ],
      "text/plain": [
       "     LATITUDE   LONGITUDE                       FULL_ADDRESS STATE  \\\n",
       "0  -33.388910  150.106971  110 SKELLY ROAD LIDSDALE NSW 2790   NSW   \n",
       "27 -33.341074  150.100713  612 WOLGAN ROAD LIDSDALE NSW 2790   NSW   \n",
       "\n",
       "   SA4_NAME_2016 LGA_NAME_2016 SSC_NAME_2016     SA3_NAME_2016  \\\n",
       "0   Central West   Lithgow (C)      Lidsdale  Lithgow - Mudgee   \n",
       "27  Central West   Lithgow (C)      Lidsdale  Lithgow - Mudgee   \n",
       "\n",
       "     SA2_NAME_2016 ADDRESS_DETAIL_PID  DISTANCE  \n",
       "0   Lithgow Region     GANSW720609381  6.348317  \n",
       "27  Lithgow Region     GANSW716746181  6.826609  "
      ]
     },
     "execution_count": 42,
     "metadata": {},
     "output_type": "execute_result"
    }
   ],
   "source": [
    "find_nearest_address(-33.3643823,150.1687078, n= 2)\n",
    "# find_nearest_address(-33.031745, 151.135357, n= 2)"
   ]
  }
 ],
 "metadata": {
  "kernelspec": {
   "display_name": "Python 3",
   "language": "python",
   "name": "python3"
  },
  "language_info": {
   "codemirror_mode": {
    "name": "ipython",
    "version": 3
   },
   "file_extension": ".py",
   "mimetype": "text/x-python",
   "name": "python",
   "nbconvert_exporter": "python",
   "pygments_lexer": "ipython3",
   "version": "3.8.5"
  }
 },
 "nbformat": 4,
 "nbformat_minor": 4
}
