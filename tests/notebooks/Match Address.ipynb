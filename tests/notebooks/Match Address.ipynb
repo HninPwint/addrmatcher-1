{
 "cells": [
  {
   "cell_type": "code",
   "execution_count": 348,
   "id": "d1b5eb58",
   "metadata": {},
   "outputs": [
    {
     "name": "stderr",
     "output_type": "stream",
     "text": [
      "/home/yunseok/miniconda3/envs/jupyter/lib/python3.8/site-packages/openpyxl/worksheet/header_footer.py:48: UserWarning: Cannot parse header or footer so it will be ignored\n",
      "  warn(\"\"\"Cannot parse header or footer so it will be ignored\"\"\")\n"
     ]
    }
   ],
   "source": [
    "import pandas as pd\n",
    "import re\n",
    "\n",
    "\n",
    "df = pd.read_excel('provider_list.xlsx', sheet_name = \"Provider_by_Group_NT\")\n",
    "addresses = df[\"Unnamed: 6\"][1:]\n",
    "addresses.reset_index(drop=True, inplace=True)\n",
    "ind = pd.read_parquet(\"index.parquet\")"
   ]
  },
  {
   "cell_type": "code",
   "execution_count": 2,
   "id": "cb4fa3b2",
   "metadata": {},
   "outputs": [
    {
     "data": {
      "text/plain": [
       "'9, George Street, North Strathfield, NSW 2137'"
      ]
     },
     "execution_count": 2,
     "metadata": {},
     "output_type": "execute_result"
    }
   ],
   "source": [
    "addresses[0]"
   ]
  },
  {
   "cell_type": "code",
   "execution_count": 399,
   "id": "067aefa0",
   "metadata": {},
   "outputs": [],
   "source": [
    "def match_address(adr):\n",
    "    street_code_dict = {\n",
    "        'ALLY': 'ALLEY',\n",
    "         'ARC': 'ARCADE',\n",
    "         'AVE': 'AVENUE',\n",
    "         'AV': 'AVENUE',\n",
    "         'BVD': 'BOULEVARD',\n",
    "         'BYPA': 'BYPASS',\n",
    "         'CCT': 'CIRCUIT',\n",
    "         'CL': 'CLOSE',\n",
    "         'CRN': 'CORNER',\n",
    "         'CT': 'COURT',\n",
    "         'CRES': 'CRESCENT',\n",
    "         'CDS': 'CUL-DE-SAC',\n",
    "         'DR': 'DRIVE',\n",
    "         'ESP': 'ESPLANADE',\n",
    "         'GRN': 'GREEN',\n",
    "         'GR': 'GROVE',\n",
    "         'HWY': 'HIGHWAY',\n",
    "         'JNC': 'JUNCTION',\n",
    "         'LANE': 'LANE',\n",
    "         'LINK': 'LINK',\n",
    "         'MEWS': 'MEWS',\n",
    "         'PDE': 'PARADE',\n",
    "         'PL': 'PLACE',\n",
    "         'RDGE': 'RIDGE',\n",
    "         'RD': 'ROAD',\n",
    "         'SQ': 'SQUARE',\n",
    "         'ST': 'STREET',\n",
    "         'TCE': 'TERRACE'\n",
    "    }\n",
    "    def split_address(adr):\n",
    "        while True:\n",
    "            match = re.search(\"[0-9]+[a-zA-Z,]*\\s\", adr)\n",
    "            if not match: break\n",
    "            pos = match.span()[1]    \n",
    "            adr = adr[pos:]\n",
    "        return adr.upper()\n",
    "    clean_adr = re.sub(r\"((?:NSW|VIC|QLD|TAS|WA|SA|NT|ACT))[,\\s]*([0-9]{4})$\", r\"\\1 \\2\",adr)\n",
    "    clean_adr = clean_adr.replace(\",\", \"\").strip()\n",
    "    clean_adr = split_address(clean_adr)\n",
    "    match = re.search(\"\\s((?:NSW|VIC|QLD|TAS|WA|SA|NT|ACT))\\s([0-9]{4})$\", clean_adr)\n",
    "    # find state and post code\n",
    "    if not match: return clean_adr\n",
    "    state, postcode = match.group(1), match.group(2)\n",
    "    # filter index file based on post code and state\n",
    "    df = ind[(ind.POSTCODE == postcode) & (ind.STATE == state)]\n",
    "    if df.empty: return clean_adr\n",
    "    # filter df based on states\n",
    "    suburbs = [suburb for suburb in df.LOCALITY_NAME.unique() if suburb in clean_adr]\n",
    "    # suburb exists within the state\n",
    "    index = df.LOCALITY_NAME.str.contains('|'.join(suburbs))\n",
    "    # find street and street code from clean_adr\n",
    "    match = re.search(f\"(?:{'|'.join(suburbs)})\\s+{state}\\s+{postcode}\", clean_adr)\n",
    "    if not match: return clean_adr\n",
    "    street_string = clean_adr[:match.span()[0]]\n",
    "    if any(index):\n",
    "        # filter by suburbs if suburb matches\n",
    "        temp_df = df[index]\n",
    "        street_name = [street_name for street_name in temp_df.STREET_NAME.unique() if street_name in street_string] \n",
    "        # if street name does not exist in the data frame, suburbs maybe incorrect\n",
    "        if street_name:\n",
    "            df = temp_df[temp_df.STREET_NAME.isin(street_name)] \n",
    "        else:\n",
    "            # find within the same post code and state again for street name\n",
    "            street_name = [street_name for street_name in df.STREET_NAME.unique() if street_name in street_string]\n",
    "            df = df[df.STREET_NAME.isin(street_name)] \n",
    "    if df.empty: return clean_adr  \n",
    "    # search for street name and code\n",
    "    match = re.search(\n",
    "        f\"(?:({'|'.join(df.STREET_NAME.unique())}))\\s(.*)\\s((:?{'|'.join(df.LOCALITY_NAME.unique())}))\", \n",
    "        clean_adr)\n",
    "    if not match: \n",
    "        match = re.search(\n",
    "            f\"(?:({'|'.join(df.STREET_NAME.unique())}))\\s(\\S*)\\s\", \n",
    "            clean_adr)\n",
    "        if not match: return clean_adr\n",
    "        street_name = match.group(1)\n",
    "        street_code = match.group(2)\n",
    "        match = re.search(f'{street_code}\\s(.+)\\s{state}', clean_adr)\n",
    "        # suburb maybe incorrectly entered\n",
    "        suburb = match.group(1) if match else None      \n",
    "    else:\n",
    "        street_name, street_code, suburb = (match.group(i+1) for i in range(3))\n",
    "    if suburb:\n",
    "        # filter based on street and suburb name\n",
    "        index = (df.STREET_NAME == street_name) & (df.LOCALITY_NAME ==suburb)\n",
    "        # if no exact match, try to find matching string\n",
    "        if not any(index): index = (df.STREET_NAME.str.contains(street_name)) & (df.LOCALITY_NAME.str.contains(suburb))\n",
    "        if(any(index)):\n",
    "            df = df[index]\n",
    "        else:\n",
    "            # if there is no matching suburbs use street name only to filter\n",
    "            df = df[(df.STREET_NAME.str.contains(street_name))]\n",
    "    else:\n",
    "        df = df[(df.STREET_NAME == street_name)]\n",
    "    if df.empty: return clean_adr\n",
    "    if df.shape[0] == 1: return df.ADDRESS.iloc[0]          \n",
    "    # covert street code to long form postcode\n",
    "    street_code = street_code_dict[street_code] if street_code in street_code_dict else street_code\n",
    "    df = df[df.STREET_TYPE_CODE == street_code]\n",
    "    if df.empty: return clean_adr\n",
    "    if df.shape[0] == 1: return df.ADDRESS.iloc[0]\n",
    "    return clean_adr"
   ]
  },
  {
   "cell_type": "code",
   "execution_count": 394,
   "id": "b1b29f7b",
   "metadata": {},
   "outputs": [
    {
     "data": {
      "text/plain": [
       "'GUILDFORD ROAD GUILDFORD NSW 2161'"
      ]
     },
     "execution_count": 394,
     "metadata": {},
     "output_type": "execute_result"
    }
   ],
   "source": [
    "match_address(\"GUILDFORD RD GUILDFORD NSW 2161\")"
   ]
  },
  {
   "cell_type": "code",
   "execution_count": 400,
   "id": "f9ea5f43",
   "metadata": {},
   "outputs": [
    {
     "data": {
      "text/plain": [
       "'MALSBURY ROAD NORMANHURST NSW 2076'"
      ]
     },
     "execution_count": 400,
     "metadata": {},
     "output_type": "execute_result"
    }
   ],
   "source": [
    "# match_address(addresses[1089]\n",
    "x = match_address('24 malsbury rd, Wahroonga nsw 2076')\n",
    "x"
   ]
  },
  {
   "cell_type": "code",
   "execution_count": 396,
   "id": "073c6ed2",
   "metadata": {},
   "outputs": [],
   "source": [
    "def split_address(address):\n",
    "    adr = address\n",
    "    while True:\n",
    "        match = re.search(\"[0-9]+[a-zA-Z,]*\\s\", adr)\n",
    "        if not match: break\n",
    "        pos = match.span()[1]    \n",
    "        adr = adr[pos:]\n",
    "        \n",
    "    street_no = address[:-len(adr)]\n",
    "    return street_no.upper().strip(', '), adr.upper()"
   ]
  },
  {
   "cell_type": "code",
   "execution_count": 397,
   "id": "9ffff034",
   "metadata": {},
   "outputs": [
    {
     "data": {
      "text/plain": [
       "('UNIT 4, 24', 'MALSBURY ROAD HORNSBY NSW 2077')"
      ]
     },
     "execution_count": 397,
     "metadata": {},
     "output_type": "execute_result"
    }
   ],
   "source": [
    "split_address(\"Unit 4, 24, malsbury road hornsby nsw 2077\")"
   ]
  },
  {
   "cell_type": "code",
   "execution_count": 401,
   "id": "a6e639d0",
   "metadata": {},
   "outputs": [
    {
     "data": {
      "text/plain": [
       "444"
      ]
     },
     "execution_count": 401,
     "metadata": {},
     "output_type": "execute_result"
    }
   ],
   "source": [
    "adr = addresses[0:10000].apply(match_address)\n",
    "non_match = adr[~adr.isin(ind.ADDRESS)]\n",
    "non_match.shape[0]"
   ]
  },
  {
   "cell_type": "code",
   "execution_count": 402,
   "id": "a363a269",
   "metadata": {},
   "outputs": [
    {
     "data": {
      "text/plain": [
       "32                 JAMES STREET TOOWOOMBA QLD 4350\n",
       "86                              DONCASTER VIC 3108\n",
       "127               THE CRESCENT KINGSGROVE NSW 2208\n",
       "144                                   CONFIDENTIAL\n",
       "161                                   CONFIDENTIAL\n",
       "                           ...                    \n",
       "9940                    ESPLANADE URANGAN QLD 4655\n",
       "9969                     NORTH PARRAMATTA NSW 2151\n",
       "9975    THE LAKES BOULEVARDE SOUTH MORANG VIC 3752\n",
       "9977                                  CONFIDENTIAL\n",
       "9995           HOSKINGS STREET CRANEBROOK NSW 2749\n",
       "Name: Unnamed: 6, Length: 444, dtype: object"
      ]
     },
     "execution_count": 402,
     "metadata": {},
     "output_type": "execute_result"
    }
   ],
   "source": [
    "non_match"
   ]
  },
  {
   "cell_type": "code",
   "execution_count": 390,
   "id": "bd2481a5",
   "metadata": {},
   "outputs": [
    {
     "data": {
      "text/html": [
       "<div>\n",
       "<style scoped>\n",
       "    .dataframe tbody tr th:only-of-type {\n",
       "        vertical-align: middle;\n",
       "    }\n",
       "\n",
       "    .dataframe tbody tr th {\n",
       "        vertical-align: top;\n",
       "    }\n",
       "\n",
       "    .dataframe thead th {\n",
       "        text-align: right;\n",
       "    }\n",
       "</style>\n",
       "<table border=\"1\" class=\"dataframe\">\n",
       "  <thead>\n",
       "    <tr style=\"text-align: right;\">\n",
       "      <th></th>\n",
       "      <th>IDX</th>\n",
       "      <th>STREET_NAME</th>\n",
       "      <th>STREET_TYPE_CODE</th>\n",
       "      <th>LOCALITY_NAME</th>\n",
       "      <th>STATE</th>\n",
       "      <th>POSTCODE</th>\n",
       "      <th>FILE_NAME</th>\n",
       "      <th>ADDRESS_COUNT</th>\n",
       "      <th>ADDRESS</th>\n",
       "    </tr>\n",
       "  </thead>\n",
       "  <tbody>\n",
       "    <tr>\n",
       "      <th>323198</th>\n",
       "      <td>323199</td>\n",
       "      <td>DAWSON</td>\n",
       "      <td>STREET</td>\n",
       "      <td>BALLARAT CENTRAL</td>\n",
       "      <td>VIC</td>\n",
       "      <td>3350</td>\n",
       "      <td>VIC-3.parquet</td>\n",
       "      <td>119</td>\n",
       "      <td>DAWSON STREET BALLARAT CENTRAL VIC 3350</td>\n",
       "    </tr>\n",
       "  </tbody>\n",
       "</table>\n",
       "</div>"
      ],
      "text/plain": [
       "           IDX STREET_NAME STREET_TYPE_CODE     LOCALITY_NAME STATE POSTCODE  \\\n",
       "323198  323199      DAWSON           STREET  BALLARAT CENTRAL   VIC     3350   \n",
       "\n",
       "            FILE_NAME  ADDRESS_COUNT                                  ADDRESS  \n",
       "323198  VIC-3.parquet            119  DAWSON STREET BALLARAT CENTRAL VIC 3350  "
      ]
     },
     "execution_count": 390,
     "metadata": {},
     "output_type": "execute_result"
    }
   ],
   "source": [
    "ind[ind.STREET_NAME.str.contains('DAWSON') & ind.LOCALITY_NAME.str.contains('BALLARAT ')]"
   ]
  }
 ],
 "metadata": {
  "kernelspec": {
   "display_name": "Python 3",
   "language": "python",
   "name": "python3"
  },
  "language_info": {
   "codemirror_mode": {
    "name": "ipython",
    "version": 3
   },
   "file_extension": ".py",
   "mimetype": "text/x-python",
   "name": "python",
   "nbconvert_exporter": "python",
   "pygments_lexer": "ipython3",
   "version": "3.8.5"
  }
 },
 "nbformat": 4,
 "nbformat_minor": 5
}
