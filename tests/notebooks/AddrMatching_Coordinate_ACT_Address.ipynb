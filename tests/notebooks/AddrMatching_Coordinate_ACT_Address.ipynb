{
 "cells": [
  {
   "cell_type": "code",
   "execution_count": 1,
   "metadata": {},
   "outputs": [],
   "source": [
    "import pandas as pd\n",
    "from scipy import spatial\n",
    "import math"
   ]
  },
  {
   "cell_type": "code",
   "execution_count": 2,
   "metadata": {},
   "outputs": [
    {
     "name": "stderr",
     "output_type": "stream",
     "text": [
      "<decorator-gen-55>:2: DtypeWarning: Columns (9,12,13) have mixed types.Specify dtype option on import or set low_memory=False.\n"
     ]
    },
    {
     "name": "stdout",
     "output_type": "stream",
     "text": [
      "Wall time: 1.65 s\n"
     ]
    }
   ],
   "source": [
    "%%time\n",
    "gnaf_address_combined = pd.read_csv(\"../data/Master/ACT-GNAF.csv\")"
   ]
  },
  {
   "cell_type": "code",
   "execution_count": 53,
   "metadata": {},
   "outputs": [
    {
     "data": {
      "text/html": [
       "<div>\n",
       "<style scoped>\n",
       "    .dataframe tbody tr th:only-of-type {\n",
       "        vertical-align: middle;\n",
       "    }\n",
       "\n",
       "    .dataframe tbody tr th {\n",
       "        vertical-align: top;\n",
       "    }\n",
       "\n",
       "    .dataframe thead th {\n",
       "        text-align: right;\n",
       "    }\n",
       "</style>\n",
       "<table border=\"1\" class=\"dataframe\">\n",
       "  <thead>\n",
       "    <tr style=\"text-align: right;\">\n",
       "      <th></th>\n",
       "      <th>ADDRESS_DETAIL_PID</th>\n",
       "      <th>DATE_CREATED</th>\n",
       "      <th>DATE_LAST_MODIFIED</th>\n",
       "      <th>DATE_RETIRED</th>\n",
       "      <th>BUILDING_NAME</th>\n",
       "      <th>LOT_NUMBER_PREFIX</th>\n",
       "      <th>LOT_NUMBER</th>\n",
       "      <th>LOT_NUMBER_SUFFIX</th>\n",
       "      <th>FLAT_TYPE_CODE</th>\n",
       "      <th>FLAT_NUMBER_PREFIX</th>\n",
       "      <th>...</th>\n",
       "      <th>PRIMARY_SECONDARY</th>\n",
       "      <th>STATE</th>\n",
       "      <th>STREET_NAME</th>\n",
       "      <th>STREET_TYPE_CODE</th>\n",
       "      <th>LOCALITY_NAME</th>\n",
       "      <th>MB_2016_PID</th>\n",
       "      <th>LONGITUDE</th>\n",
       "      <th>LATITUDE</th>\n",
       "      <th>FULL_ADDRESS</th>\n",
       "      <th>CARTESIAN_COOR</th>\n",
       "    </tr>\n",
       "  </thead>\n",
       "  <tbody>\n",
       "    <tr>\n",
       "      <th>0</th>\n",
       "      <td>GAACT715187300</td>\n",
       "      <td>2004-04-29</td>\n",
       "      <td>2018-11-01</td>\n",
       "      <td>NaN</td>\n",
       "      <td>NaN</td>\n",
       "      <td>NaN</td>\n",
       "      <td>NaN</td>\n",
       "      <td>NaN</td>\n",
       "      <td>NaN</td>\n",
       "      <td>NaN</td>\n",
       "      <td>...</td>\n",
       "      <td>NaN</td>\n",
       "      <td>ACT</td>\n",
       "      <td>GEORGINA</td>\n",
       "      <td>CRESCENT</td>\n",
       "      <td>KALEEN</td>\n",
       "      <td>MB1680024002000</td>\n",
       "      <td>149.102358</td>\n",
       "      <td>-35.220722</td>\n",
       "      <td>10A GEORGINA CRESCENT, KALEEN, ACT 2617</td>\n",
       "      <td>(-4466.081815343984, 2672.6451730840595, -3674...</td>\n",
       "    </tr>\n",
       "    <tr>\n",
       "      <th>1</th>\n",
       "      <td>GAACT715187309</td>\n",
       "      <td>2004-04-29</td>\n",
       "      <td>2018-11-01</td>\n",
       "      <td>NaN</td>\n",
       "      <td>NaN</td>\n",
       "      <td>NaN</td>\n",
       "      <td>NaN</td>\n",
       "      <td>NaN</td>\n",
       "      <td>UNIT</td>\n",
       "      <td>NaN</td>\n",
       "      <td>...</td>\n",
       "      <td>S</td>\n",
       "      <td>ACT</td>\n",
       "      <td>GEORGINA</td>\n",
       "      <td>CRESCENT</td>\n",
       "      <td>KALEEN</td>\n",
       "      <td>MB1680024002000</td>\n",
       "      <td>149.102358</td>\n",
       "      <td>-35.220722</td>\n",
       "      <td>UNIT1510 GEORGINA CRESCENT, KALEEN, ACT 2617</td>\n",
       "      <td>(-4466.081815343984, 2672.6451730840595, -3674...</td>\n",
       "    </tr>\n",
       "  </tbody>\n",
       "</table>\n",
       "<p>2 rows × 44 columns</p>\n",
       "</div>"
      ],
      "text/plain": [
       "  ADDRESS_DETAIL_PID DATE_CREATED DATE_LAST_MODIFIED  DATE_RETIRED  \\\n",
       "0     GAACT715187300   2004-04-29         2018-11-01           NaN   \n",
       "1     GAACT715187309   2004-04-29         2018-11-01           NaN   \n",
       "\n",
       "  BUILDING_NAME  LOT_NUMBER_PREFIX  LOT_NUMBER  LOT_NUMBER_SUFFIX  \\\n",
       "0           NaN                NaN         NaN                NaN   \n",
       "1           NaN                NaN         NaN                NaN   \n",
       "\n",
       "  FLAT_TYPE_CODE FLAT_NUMBER_PREFIX  ...  PRIMARY_SECONDARY STATE STREET_NAME  \\\n",
       "0            NaN                NaN  ...                NaN   ACT    GEORGINA   \n",
       "1           UNIT                NaN  ...                  S   ACT    GEORGINA   \n",
       "\n",
       "  STREET_TYPE_CODE  LOCALITY_NAME      MB_2016_PID   LONGITUDE   LATITUDE  \\\n",
       "0         CRESCENT         KALEEN  MB1680024002000  149.102358 -35.220722   \n",
       "1         CRESCENT         KALEEN  MB1680024002000  149.102358 -35.220722   \n",
       "\n",
       "                                   FULL_ADDRESS  \\\n",
       "0       10A GEORGINA CRESCENT, KALEEN, ACT 2617   \n",
       "1  UNIT1510 GEORGINA CRESCENT, KALEEN, ACT 2617   \n",
       "\n",
       "                                      CARTESIAN_COOR  \n",
       "0  (-4466.081815343984, 2672.6451730840595, -3674...  \n",
       "1  (-4466.081815343984, 2672.6451730840595, -3674...  \n",
       "\n",
       "[2 rows x 44 columns]"
      ]
     },
     "execution_count": 53,
     "metadata": {},
     "output_type": "execute_result"
    }
   ],
   "source": [
    "gnaf_address_combined.head(2)"
   ]
  },
  {
   "cell_type": "code",
   "execution_count": 3,
   "metadata": {},
   "outputs": [
    {
     "name": "stdout",
     "output_type": "stream",
     "text": [
      "Wall time: 1.43 s\n"
     ]
    }
   ],
   "source": [
    "%%time\n",
    "asgs = pd.read_csv(\"../data/Master/\" +\"AU-ASGS.csv\", dtype='str')"
   ]
  },
  {
   "cell_type": "code",
   "execution_count": 24,
   "metadata": {},
   "outputs": [
    {
     "data": {
      "text/plain": [
       "(255287, 44)"
      ]
     },
     "execution_count": 24,
     "metadata": {},
     "output_type": "execute_result"
    }
   ],
   "source": [
    "#gnaf_address_combined.info()\n",
    "gnaf_address_combined.shape"
   ]
  },
  {
   "cell_type": "markdown",
   "metadata": {},
   "source": [
    "### Independent Testing"
   ]
  },
  {
   "cell_type": "code",
   "execution_count": 19,
   "metadata": {},
   "outputs": [
    {
     "data": {
      "text/plain": [
       "tuple"
      ]
     },
     "execution_count": 19,
     "metadata": {},
     "output_type": "execute_result"
    }
   ],
   "source": [
    "#### Method to find Cartesian Coordinates\n",
    "def cartesian(latitude, longitude, elevation = 0):\n",
    "    # Convert to radians\n",
    "    latitude = latitude * (math.pi / 180)\n",
    "    longitude = longitude * (math.pi / 180)\n",
    "\n",
    "    R = 6371 # 6378137.0 + elevation  # relative to centre of the earth\n",
    "    X = R * math.cos(latitude) * math.cos(longitude)\n",
    "    Y = R * math.cos(latitude) * math.sin(longitude)\n",
    "    Z = R * math.sin(latitude)\n",
    "    return (X, Y, Z)\n",
    "\n",
    "type(cartesian(*list((41.49008, -71.312796))))"
   ]
  },
  {
   "cell_type": "code",
   "execution_count": 12,
   "metadata": {},
   "outputs": [
    {
     "name": "stdout",
     "output_type": "stream",
     "text": [
      "Wall time: 30.4 s\n"
     ]
    }
   ],
   "source": [
    "%%time\n",
    "\n",
    "#### This could be done on master dataset creation ####\n",
    "\n",
    "# places = []\n",
    "# X = gnaf_address_combined[['LATITUDE', 'LONGITUDE']]\n",
    "# for index, row in X.iterrows():\n",
    "#     coordinates = [row['LATITUDE'], row['LONGITUDE']]\n",
    "#     cartesian_coord = cartesian(*coordinates)\n",
    "#     places.append(cartesian_coord)\n",
    "    \n",
    "gnaf_address_combined['CARTESIAN_COOR'] = gnaf_address_combined[['LATITUDE', 'LONGITUDE']].apply(lambda x : cartesian(*list((x.LATITUDE, x.LONGITUDE))), axis=1)\n",
    "\n",
    "## iterrows() is resource-consuming, use tolist() instead\n",
    "places = gnaf_address_combined['CARTESIAN_COOR'].tolist()"
   ]
  },
  {
   "cell_type": "code",
   "execution_count": 46,
   "metadata": {},
   "outputs": [
    {
     "name": "stdout",
     "output_type": "stream",
     "text": [
      "255287\n",
      "(-4466.077465926709, 2672.6317151305593, -3674.347939923484)\n"
     ]
    }
   ],
   "source": [
    "print(len(places))\n",
    "print(places[4])"
   ]
  },
  {
   "cell_type": "code",
   "execution_count": 52,
   "metadata": {},
   "outputs": [
    {
     "name": "stdout",
     "output_type": "stream",
     "text": [
      "255286\n",
      "Wall time: 6.82 s\n"
     ]
    }
   ],
   "source": [
    "%%time\n",
    "##### Test with simulated Input Using Spatial KDTree to find the nearested coordinate in the dataset\n",
    "##### This returns the index of the row in the dataset\n",
    "from scipy import spatial\n",
    "\n",
    "lon = 149.027961\n",
    "lat = -35.243624\n",
    "\n",
    "cartesian_coord = cartesian(lat, lon)\n",
    "\n",
    "tree = spatial.KDTree(places)\n",
    "closest = tree.query([cartesian_coord], p = 2)\n",
    "\n",
    "index = closest[1][0]\n",
    "print(index)"
   ]
  },
  {
   "cell_type": "code",
   "execution_count": 56,
   "metadata": {},
   "outputs": [
    {
     "data": {
      "text/plain": [
       "ADDRESS_DETAIL_PID                                   GAACT718835355\n",
       "LONGITUDE                                                   149.028\n",
       "LATITUDE                                                   -35.2436\n",
       "FULL_ADDRESS          121 WILLIAM HOVELL DRIVE, BELCONNEN, ACT 2617\n",
       "Name: 255286, dtype: object"
      ]
     },
     "execution_count": 56,
     "metadata": {},
     "output_type": "execute_result"
    }
   ],
   "source": [
    "### Get the full Address by the returned Index\n",
    "gnaf_address_combined.iloc[index,:][['ADDRESS_DETAIL_PID', 'LONGITUDE', 'LATITUDE', 'FULL_ADDRESS']]"
   ]
  },
  {
   "cell_type": "markdown",
   "metadata": {},
   "source": [
    "### Make function of the Above experiment"
   ]
  },
  {
   "cell_type": "code",
   "execution_count": 46,
   "metadata": {},
   "outputs": [],
   "source": [
    "AU = {}\n",
    "AU['MESH_BLOCK'] = 'MB_CODE_2016'\n",
    "AU['SA1'] = 'SA1_7DIGITCODE_2016'\n",
    "AU['SA2'] = 'SA2_NAME_2016'\n",
    "AU['SA3'] = 'SA3_NAME_2016'\n",
    "AU['SA4'] = 'SA4_NAME_2016'\n",
    "AU['SUBURB'] = 'SSC_NAME_2016'\n",
    "AU['LGA'] = 'LGA_NAME_2016'\n",
    "AU['STATE'] = 'STATE_NAME_2016'\n",
    "\n",
    "country = AU"
   ]
  },
  {
   "cell_type": "code",
   "execution_count": 47,
   "metadata": {},
   "outputs": [
    {
     "name": "stdout",
     "output_type": "stream",
     "text": [
      "Wall time: 5.84 s\n"
     ]
    }
   ],
   "source": [
    "%%time\n",
    "\n",
    "### This should be in initialisation\n",
    "from ast import literal_eval\n",
    "\n",
    "## This is to convert the following string value\n",
    "## '(-4466.08, 2672.64, -3674.33)' into Tuple style -> (-4466.08, 2672.64, -3674.33)\n",
    "gnaf_address_combined['CARTESIAN_COOR'] = gnaf_address_combined['CARTESIAN_COOR'].apply(lambda x: literal_eval(str(x)))\n",
    "\n",
    "## The column values are put into a list\n",
    "## the expectected out is like this\n",
    "## [(-4466.081815343984, 2672.6451730840595, -3674.332864268595), \n",
    "## (-4466.071446037419, 2672.6110625341303, -3674.3702790150883)]\n",
    "cart_cor = gnaf_address_combined['CARTESIAN_COOR'].tolist()\n",
    "\n",
    "## cart_cor array will be used to constract the spatial.KDTree later step"
   ]
  },
  {
   "cell_type": "code",
   "execution_count": 56,
   "metadata": {},
   "outputs": [
    {
     "name": "stdout",
     "output_type": "stream",
     "text": [
      "255287\n",
      "[(-4466.081815343984, 2672.6451730840595, -3674.332864268595), (-4466.071446037419, 2672.6110625341303, -3674.3702790150883), (-4466.081815343984, 2672.6451730840595, -3674.332864268595)]\n"
     ]
    }
   ],
   "source": [
    "print(len(places))\n",
    "print(places[1:4])"
   ]
  },
  {
   "cell_type": "code",
   "execution_count": 48,
   "metadata": {},
   "outputs": [],
   "source": [
    "def getRegionByCoordinates(lat, lon):\n",
    "    \n",
    "    # Get Cartesian coordinates of the input\n",
    "    cartesian_coord = cartesian(lat, lon)\n",
    "    \n",
    "    # Construct the tree\n",
    "    tree = spatial.KDTree(cart_cor)\n",
    "    \n",
    "    closest = tree.query([cartesian_coord], p = 2)\n",
    "    \n",
    "    index = closest[1][0]\n",
    "    \n",
    "    ## Get the result row\n",
    "    res = gnaf_address_combined.iloc[index,:]   \n",
    "    \n",
    "    mb = res['MB_2016_PID']\n",
    "    \n",
    "    region = asgs[asgs['MB_CODE_2016'] == mb[4:]]\n",
    "\n",
    "    for key, value in AU.items():\n",
    "        print(key+\":\"+region.iloc[0][value])"
   ]
  },
  {
   "cell_type": "markdown",
   "metadata": {},
   "source": [
    "### Testing the Function"
   ]
  },
  {
   "cell_type": "code",
   "execution_count": 49,
   "metadata": {},
   "outputs": [
    {
     "name": "stdout",
     "output_type": "stream",
     "text": [
      "MESH_BLOCK:80056484200\n",
      "SA1:8111101\n",
      "SA2:Molonglo Corridor\n",
      "SA3:Belconnen\n",
      "SA4:Australian Capital Territory\n",
      "SUBURB:ACT Remainder - Belconnen\n",
      "LGA:Unincorporated ACT\n",
      "STATE:Australian Capital Territory\n",
      "Wall time: 6.53 s\n"
     ]
    }
   ],
   "source": [
    "%%time\n",
    "lon = 149.027961\n",
    "lat = -35.243624\n",
    "getRegionByCoordinates(lat, lon)"
   ]
  },
  {
   "cell_type": "code",
   "execution_count": 50,
   "metadata": {},
   "outputs": [
    {
     "name": "stdout",
     "output_type": "stream",
     "text": [
      "MESH_BLOCK:80011580000\n",
      "SA1:8100604\n",
      "SA2:Dunlop\n",
      "SA3:Belconnen\n",
      "SA4:Australian Capital Territory\n",
      "SUBURB:Dunlop\n",
      "LGA:Unincorporated ACT\n",
      "STATE:Australian Capital Territory\n"
     ]
    }
   ],
   "source": [
    "lat = -35.19678041\n",
    "lon = 149.02779517\n",
    "getRegionByCoordinates(lat, lon)"
   ]
  },
  {
   "cell_type": "code",
   "execution_count": 51,
   "metadata": {},
   "outputs": [
    {
     "name": "stdout",
     "output_type": "stream",
     "text": [
      "MESH_BLOCK:80024002000\n",
      "SA1:8101613\n",
      "SA2:Kaleen\n",
      "SA3:Belconnen\n",
      "SA4:Australian Capital Territory\n",
      "SUBURB:Kaleen\n",
      "LGA:Unincorporated ACT\n",
      "STATE:Australian Capital Territory\n"
     ]
    }
   ],
   "source": [
    "lat = -35.220722\n",
    "lon = 149.102358\n",
    "getRegionByCoordinates(lat, lon)"
   ]
  }
 ],
 "metadata": {
  "kernelspec": {
   "display_name": "Python 3",
   "language": "python",
   "name": "python3"
  },
  "language_info": {
   "codemirror_mode": {
    "name": "ipython",
    "version": 3
   },
   "file_extension": ".py",
   "mimetype": "text/x-python",
   "name": "python",
   "nbconvert_exporter": "python",
   "pygments_lexer": "ipython3",
   "version": "3.8.5"
  }
 },
 "nbformat": 4,
 "nbformat_minor": 4
}
