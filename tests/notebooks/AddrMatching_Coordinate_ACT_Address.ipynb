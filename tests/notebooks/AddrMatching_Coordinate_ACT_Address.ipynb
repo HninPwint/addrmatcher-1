{
 "cells": [
  {
   "cell_type": "code",
   "execution_count": 4,
   "metadata": {},
   "outputs": [],
   "source": [
    "import pandas as pd\n",
    "from scipy import spatial\n",
    "import math"
   ]
  },
  {
   "cell_type": "code",
   "execution_count": 37,
   "metadata": {},
   "outputs": [
    {
     "name": "stderr",
     "output_type": "stream",
     "text": [
      "<decorator-gen-55>:2: DtypeWarning: Columns (9,12,13) have mixed types.Specify dtype option on import or set low_memory=False.\n"
     ]
    },
    {
     "name": "stdout",
     "output_type": "stream",
     "text": [
      "Wall time: 3.84 s\n"
     ]
    }
   ],
   "source": [
    "%%time\n",
    "gnaf_address_combined = pd.read_csv(\"../data/Master/ACT-GNAF.csv\")"
   ]
  },
  {
   "cell_type": "code",
   "execution_count": 38,
   "metadata": {},
   "outputs": [
    {
     "name": "stdout",
     "output_type": "stream",
     "text": [
      "Wall time: 2.78 s\n"
     ]
    }
   ],
   "source": [
    "%%time\n",
    "asgs = pd.read_csv(\"../data/Master/\" +\"AU-ASGS.csv\", dtype='str')"
   ]
  },
  {
   "cell_type": "code",
   "execution_count": 39,
   "metadata": {},
   "outputs": [
    {
     "data": {
      "text/plain": [
       "(255287, 44)"
      ]
     },
     "execution_count": 39,
     "metadata": {},
     "output_type": "execute_result"
    }
   ],
   "source": [
    "gnaf_address_combined.head(2)\n",
    "gnaf_address_combined.shape"
   ]
  },
  {
   "cell_type": "markdown",
   "metadata": {},
   "source": [
    "### Independent Testing"
   ]
  },
  {
   "cell_type": "code",
   "execution_count": 40,
   "metadata": {},
   "outputs": [
    {
     "data": {
      "text/plain": [
       "(1529.0606767794266, -4520.739477097018, 4220.726125555107)"
      ]
     },
     "execution_count": 40,
     "metadata": {},
     "output_type": "execute_result"
    }
   ],
   "source": [
    "#### Method to find Cartesian Coordinates\n",
    "def cartesian(latitude, longitude, elevation = 0):\n",
    "    # Convert to radians\n",
    "    latitude = latitude * (math.pi / 180)\n",
    "    longitude = longitude * (math.pi / 180)\n",
    "\n",
    "    R = 6371 # 6378137.0 + elevation  # relative to centre of the earth\n",
    "    X = R * math.cos(latitude) * math.cos(longitude)\n",
    "    Y = R * math.cos(latitude) * math.sin(longitude)\n",
    "    Z = R * math.sin(latitude)\n",
    "    return (X, Y, Z)\n",
    "\n",
    "cartesian(*list((41.49008, -71.312796)))"
   ]
  },
  {
   "cell_type": "code",
   "execution_count": 45,
   "metadata": {},
   "outputs": [
    {
     "name": "stdout",
     "output_type": "stream",
     "text": [
      "Wall time: 25.5 s\n"
     ]
    }
   ],
   "source": [
    "%%time\n",
    "\n",
    "#### This could be done on master dataset creation ####\n",
    "\n",
    "places = []\n",
    "\n",
    "X = gnaf_address_combined[['LATITUDE', 'LONGITUDE']]\n",
    "\n",
    "for index, row in X.iterrows():\n",
    "    coordinates = [row['LATITUDE'], row['LONGITUDE']]\n",
    "    cartesian_coord = cartesian(*coordinates)\n",
    "    places.append(cartesian_coord)"
   ]
  },
  {
   "cell_type": "code",
   "execution_count": 54,
   "metadata": {},
   "outputs": [
    {
     "name": "stdout",
     "output_type": "stream",
     "text": [
      "[1, 3, 5]\n"
     ]
    }
   ],
   "source": [
    "Y = pd.DataFrame({\"A\": [1,3,5], \"B\": [5,6,7]})\n",
    "\n",
    "values = []\n",
    "for index, row in Y.iterrows():\n",
    "#     coordinates = [row['A'], row['B']]\n",
    "#     cartesian_coord = cartesian(*coordinates)\n",
    "    values.append(row[\"A\"])\n",
    "print(values)"
   ]
  },
  {
   "cell_type": "code",
   "execution_count": 46,
   "metadata": {},
   "outputs": [
    {
     "name": "stdout",
     "output_type": "stream",
     "text": [
      "255287\n",
      "(-4466.077465926709, 2672.6317151305593, -3674.347939923484)\n"
     ]
    }
   ],
   "source": [
    "print(len(places))\n",
    "print(places[4])"
   ]
  },
  {
   "cell_type": "code",
   "execution_count": 55,
   "metadata": {},
   "outputs": [
    {
     "name": "stdout",
     "output_type": "stream",
     "text": [
      "255286\n",
      "Wall time: 12.2 s\n"
     ]
    }
   ],
   "source": [
    "%%time\n",
    "##### Test with simulated Input Using Spatial KDTree to find the nearested coordinate in the dataset\n",
    "##### This returns the index of the row in the dataset\n",
    "from scipy import spatial\n",
    "\n",
    "# lat = -35.19678041\n",
    "# lon = 149.02779517\n",
    "\n",
    "# lat = -35.220722\n",
    "# lon = 149.102358\n",
    "\n",
    "lon = 149.027961\n",
    "lat = -35.243624\n",
    "\n",
    "cartesian_coord = cartesian(lat, lon)\n",
    "\n",
    "tree = spatial.KDTree(places)\n",
    "closest = tree.query([cartesian_coord], p = 2)\n",
    "\n",
    "index = closest[1][0]\n",
    "print(index)"
   ]
  },
  {
   "cell_type": "code",
   "execution_count": 56,
   "metadata": {},
   "outputs": [
    {
     "data": {
      "text/plain": [
       "ADDRESS_DETAIL_PID                                   GAACT718835355\n",
       "LONGITUDE                                                   149.028\n",
       "LATITUDE                                                   -35.2436\n",
       "FULL_ADDRESS          121 WILLIAM HOVELL DRIVE, BELCONNEN, ACT 2617\n",
       "Name: 255286, dtype: object"
      ]
     },
     "execution_count": 56,
     "metadata": {},
     "output_type": "execute_result"
    }
   ],
   "source": [
    "### Get the full Address by the returned Index\n",
    "gnaf_address_combined.iloc[index,:][['ADDRESS_DETAIL_PID', 'LONGITUDE', 'LATITUDE', 'FULL_ADDRESS']]"
   ]
  },
  {
   "cell_type": "markdown",
   "metadata": {},
   "source": [
    "### Make function of the Above experiment"
   ]
  },
  {
   "cell_type": "code",
   "execution_count": 6,
   "metadata": {},
   "outputs": [],
   "source": [
    "AU = {}\n",
    "AU['MESH_BLOCK'] = 'MB_CODE_2016'\n",
    "AU['SA1'] = 'SA1_7DIGITCODE_2016'\n",
    "AU['SA2'] = 'SA2_NAME_2016'\n",
    "AU['SA3'] = 'SA3_NAME_2016'\n",
    "AU['SA4'] = 'SA4_NAME_2016'\n",
    "AU['SUBURB'] = 'SSC_NAME_2016'\n",
    "AU['LGA'] = 'LGA_NAME_2016'\n",
    "AU['STATE'] = 'STATE_NAME_2016'\n",
    "\n",
    "country = AU"
   ]
  },
  {
   "cell_type": "code",
   "execution_count": 23,
   "metadata": {},
   "outputs": [
    {
     "data": {
      "text/html": [
       "<div>\n",
       "<style scoped>\n",
       "    .dataframe tbody tr th:only-of-type {\n",
       "        vertical-align: middle;\n",
       "    }\n",
       "\n",
       "    .dataframe tbody tr th {\n",
       "        vertical-align: top;\n",
       "    }\n",
       "\n",
       "    .dataframe thead th {\n",
       "        text-align: right;\n",
       "    }\n",
       "</style>\n",
       "<table border=\"1\" class=\"dataframe\">\n",
       "  <thead>\n",
       "    <tr style=\"text-align: right;\">\n",
       "      <th></th>\n",
       "      <th>CARTESIAN_COOR</th>\n",
       "    </tr>\n",
       "  </thead>\n",
       "  <tbody>\n",
       "    <tr>\n",
       "      <th>0</th>\n",
       "      <td>(-4466.081815343984, 2672.6451730840595, -3674...</td>\n",
       "    </tr>\n",
       "    <tr>\n",
       "      <th>1</th>\n",
       "      <td>(-4466.081815343984, 2672.6451730840595, -3674...</td>\n",
       "    </tr>\n",
       "    <tr>\n",
       "      <th>2</th>\n",
       "      <td>(-4466.071446037419, 2672.6110625341303, -3674...</td>\n",
       "    </tr>\n",
       "    <tr>\n",
       "      <th>3</th>\n",
       "      <td>(-4466.081815343984, 2672.6451730840595, -3674...</td>\n",
       "    </tr>\n",
       "    <tr>\n",
       "      <th>4</th>\n",
       "      <td>(-4466.077465926709, 2672.6317151305593, -3674...</td>\n",
       "    </tr>\n",
       "    <tr>\n",
       "      <th>...</th>\n",
       "      <td>...</td>\n",
       "    </tr>\n",
       "    <tr>\n",
       "      <th>255282</th>\n",
       "      <td>(-4459.481882179927, 2675.3416170449, -3680.38...</td>\n",
       "    </tr>\n",
       "    <tr>\n",
       "      <th>255283</th>\n",
       "      <td>(-4461.520524934195, 2678.6310419069455, -3675...</td>\n",
       "    </tr>\n",
       "    <tr>\n",
       "      <th>255284</th>\n",
       "      <td>(-4461.177948854766, 2677.07941906673, -3677.0...</td>\n",
       "    </tr>\n",
       "    <tr>\n",
       "      <th>255285</th>\n",
       "      <td>(-4461.874958606976, 2674.5440704526345, -3678...</td>\n",
       "    </tr>\n",
       "    <tr>\n",
       "      <th>255286</th>\n",
       "      <td>(-4461.348028272892, 2677.685987449099, -3676....</td>\n",
       "    </tr>\n",
       "  </tbody>\n",
       "</table>\n",
       "<p>255287 rows × 1 columns</p>\n",
       "</div>"
      ],
      "text/plain": [
       "                                           CARTESIAN_COOR\n",
       "0       (-4466.081815343984, 2672.6451730840595, -3674...\n",
       "1       (-4466.081815343984, 2672.6451730840595, -3674...\n",
       "2       (-4466.071446037419, 2672.6110625341303, -3674...\n",
       "3       (-4466.081815343984, 2672.6451730840595, -3674...\n",
       "4       (-4466.077465926709, 2672.6317151305593, -3674...\n",
       "...                                                   ...\n",
       "255282  (-4459.481882179927, 2675.3416170449, -3680.38...\n",
       "255283  (-4461.520524934195, 2678.6310419069455, -3675...\n",
       "255284  (-4461.177948854766, 2677.07941906673, -3677.0...\n",
       "255285  (-4461.874958606976, 2674.5440704526345, -3678...\n",
       "255286  (-4461.348028272892, 2677.685987449099, -3676....\n",
       "\n",
       "[255287 rows x 1 columns]"
      ]
     },
     "execution_count": 23,
     "metadata": {},
     "output_type": "execute_result"
    }
   ],
   "source": [
    "gnaf_address_combined[['CARTESIAN_COOR']]"
   ]
  },
  {
   "cell_type": "code",
   "execution_count": 57,
   "metadata": {},
   "outputs": [],
   "source": [
    "def getCartesianCoordinatesArray():\n",
    "    cart_cor = []\n",
    "    for index, row in gnaf_address_combined[['CARTESIAN_COOR']].iterrows():\n",
    "        cart_cor.append(row['CARTESIAN_COOR'])\n",
    "    return cart_cor"
   ]
  },
  {
   "cell_type": "code",
   "execution_count": 58,
   "metadata": {},
   "outputs": [],
   "source": [
    "def getRegionByCoordinates(lat, lon):\n",
    "    \n",
    "    cartesian_coord = cartesian(lat, lon)\n",
    "    \n",
    "    places = getCartesianCoordinatesArray()\n",
    "\n",
    "    tree = spatial.KDTree(places)\n",
    "    closest = tree.query([cartesian_coord], p = 2)\n",
    "    \n",
    "    index = closest[1][0]\n",
    "    \n",
    "    ## Get the result row\n",
    "    res = gnaf_address_combined.iloc[index,:]\n",
    "    \n",
    "    \n",
    "    mb = res['MB_2016_PID']\n",
    "    \n",
    "    region = asgs[asgs['MB_CODE_2016'] == mb[4:]]\n",
    "\n",
    "    for key, value in AU.items():\n",
    "        print(key+\":\"+region.iloc[0][value])"
   ]
  },
  {
   "cell_type": "code",
   "execution_count": 59,
   "metadata": {},
   "outputs": [
    {
     "ename": "ValueError",
     "evalue": "not enough values to unpack (expected 2, got 1)",
     "output_type": "error",
     "traceback": [
      "\u001b[1;31m---------------------------------------------------------------------------\u001b[0m",
      "\u001b[1;31mValueError\u001b[0m                                Traceback (most recent call last)",
      "\u001b[1;32m<timed exec>\u001b[0m in \u001b[0;36m<module>\u001b[1;34m\u001b[0m\n",
      "\u001b[1;32m<ipython-input-58-975e93b21c02>\u001b[0m in \u001b[0;36mgetRegionByCoordinates\u001b[1;34m(lat, lon)\u001b[0m\n\u001b[0;32m      5\u001b[0m     \u001b[0mplaces\u001b[0m \u001b[1;33m=\u001b[0m \u001b[0mgetCartesianCoordinatesArray\u001b[0m\u001b[1;33m(\u001b[0m\u001b[1;33m)\u001b[0m\u001b[1;33m\u001b[0m\u001b[1;33m\u001b[0m\u001b[0m\n\u001b[0;32m      6\u001b[0m \u001b[1;33m\u001b[0m\u001b[0m\n\u001b[1;32m----> 7\u001b[1;33m     \u001b[0mtree\u001b[0m \u001b[1;33m=\u001b[0m \u001b[0mspatial\u001b[0m\u001b[1;33m.\u001b[0m\u001b[0mKDTree\u001b[0m\u001b[1;33m(\u001b[0m\u001b[0mplaces\u001b[0m\u001b[1;33m)\u001b[0m\u001b[1;33m\u001b[0m\u001b[1;33m\u001b[0m\u001b[0m\n\u001b[0m\u001b[0;32m      8\u001b[0m     \u001b[0mclosest\u001b[0m \u001b[1;33m=\u001b[0m \u001b[0mtree\u001b[0m\u001b[1;33m.\u001b[0m\u001b[0mquery\u001b[0m\u001b[1;33m(\u001b[0m\u001b[1;33m[\u001b[0m\u001b[0mcartesian_coord\u001b[0m\u001b[1;33m]\u001b[0m\u001b[1;33m,\u001b[0m \u001b[0mp\u001b[0m \u001b[1;33m=\u001b[0m \u001b[1;36m2\u001b[0m\u001b[1;33m)\u001b[0m\u001b[1;33m\u001b[0m\u001b[1;33m\u001b[0m\u001b[0m\n\u001b[0;32m      9\u001b[0m \u001b[1;33m\u001b[0m\u001b[0m\n",
      "\u001b[1;32mC:\\Hnin\\lib\\site-packages\\scipy\\spatial\\kdtree.py\u001b[0m in \u001b[0;36m__init__\u001b[1;34m(self, data, leafsize)\u001b[0m\n\u001b[0;32m    242\u001b[0m             \u001b[1;32mraise\u001b[0m \u001b[0mTypeError\u001b[0m\u001b[1;33m(\u001b[0m\u001b[1;34m\"KDTree does not work with complex data\"\u001b[0m\u001b[1;33m)\u001b[0m\u001b[1;33m\u001b[0m\u001b[1;33m\u001b[0m\u001b[0m\n\u001b[0;32m    243\u001b[0m \u001b[1;33m\u001b[0m\u001b[0m\n\u001b[1;32m--> 244\u001b[1;33m         \u001b[0mself\u001b[0m\u001b[1;33m.\u001b[0m\u001b[0mn\u001b[0m\u001b[1;33m,\u001b[0m \u001b[0mself\u001b[0m\u001b[1;33m.\u001b[0m\u001b[0mm\u001b[0m \u001b[1;33m=\u001b[0m \u001b[0mnp\u001b[0m\u001b[1;33m.\u001b[0m\u001b[0mshape\u001b[0m\u001b[1;33m(\u001b[0m\u001b[0mself\u001b[0m\u001b[1;33m.\u001b[0m\u001b[0mdata\u001b[0m\u001b[1;33m)\u001b[0m\u001b[1;33m\u001b[0m\u001b[1;33m\u001b[0m\u001b[0m\n\u001b[0m\u001b[0;32m    245\u001b[0m         \u001b[0mself\u001b[0m\u001b[1;33m.\u001b[0m\u001b[0mleafsize\u001b[0m \u001b[1;33m=\u001b[0m \u001b[0mint\u001b[0m\u001b[1;33m(\u001b[0m\u001b[0mleafsize\u001b[0m\u001b[1;33m)\u001b[0m\u001b[1;33m\u001b[0m\u001b[1;33m\u001b[0m\u001b[0m\n\u001b[0;32m    246\u001b[0m         \u001b[1;32mif\u001b[0m \u001b[0mself\u001b[0m\u001b[1;33m.\u001b[0m\u001b[0mleafsize\u001b[0m \u001b[1;33m<\u001b[0m \u001b[1;36m1\u001b[0m\u001b[1;33m:\u001b[0m\u001b[1;33m\u001b[0m\u001b[1;33m\u001b[0m\u001b[0m\n",
      "\u001b[1;31mValueError\u001b[0m: not enough values to unpack (expected 2, got 1)"
     ]
    }
   ],
   "source": [
    "%%time\n",
    "lon = 149.027961\n",
    "lat = -35.243624\n",
    "\n",
    "getRegionByCoordinates(lat, lon)"
   ]
  }
 ],
 "metadata": {
  "kernelspec": {
   "display_name": "Python 3",
   "language": "python",
   "name": "python3"
  },
  "language_info": {
   "codemirror_mode": {
    "name": "ipython",
    "version": 3
   },
   "file_extension": ".py",
   "mimetype": "text/x-python",
   "name": "python",
   "nbconvert_exporter": "python",
   "pygments_lexer": "ipython3",
   "version": "3.8.5"
  }
 },
 "nbformat": 4,
 "nbformat_minor": 4
}
