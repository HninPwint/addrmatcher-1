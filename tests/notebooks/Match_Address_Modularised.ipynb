{
 "cells": [
  {
   "cell_type": "code",
   "execution_count": null,
   "metadata": {},
   "outputs": [],
   "source": [
    "\n"
   ]
  },
  {
   "cell_type": "code",
   "execution_count": 1,
   "metadata": {},
   "outputs": [],
   "source": [
    "import pandas as pd\n",
    "import re"
   ]
  },
  {
   "cell_type": "code",
   "execution_count": 9,
   "metadata": {},
   "outputs": [],
   "source": [
    "# https://www.ndis.gov.au/ - Data Source\n",
    "ndis_df = pd.read_excel('../../../data/provider_list.xlsx', sheet_name = \"Provider_by_Group_NT\")"
   ]
  },
  {
   "cell_type": "code",
   "execution_count": 10,
   "metadata": {},
   "outputs": [
    {
     "data": {
      "text/html": [
       "<div>\n",
       "<style scoped>\n",
       "    .dataframe tbody tr th:only-of-type {\n",
       "        vertical-align: middle;\n",
       "    }\n",
       "\n",
       "    .dataframe tbody tr th {\n",
       "        vertical-align: top;\n",
       "    }\n",
       "\n",
       "    .dataframe thead th {\n",
       "        text-align: right;\n",
       "    }\n",
       "</style>\n",
       "<table border=\"1\" class=\"dataframe\">\n",
       "  <thead>\n",
       "    <tr style=\"text-align: right;\">\n",
       "      <th></th>\n",
       "      <th>List of Registered Providers in Northern Territory (NT) by Registration Group as at 29 March 2021</th>\n",
       "      <th>Unnamed: 1</th>\n",
       "      <th>Unnamed: 2</th>\n",
       "      <th>Unnamed: 3</th>\n",
       "      <th>Unnamed: 4</th>\n",
       "      <th>Unnamed: 5</th>\n",
       "      <th>Unnamed: 6</th>\n",
       "      <th>Unnamed: 7</th>\n",
       "      <th>Unnamed: 8</th>\n",
       "    </tr>\n",
       "  </thead>\n",
       "  <tbody>\n",
       "    <tr>\n",
       "      <th>0</th>\n",
       "      <td>Registration_Group</td>\n",
       "      <td>Registered_Provider_Name</td>\n",
       "      <td>Head_Office_Location</td>\n",
       "      <td>PrvdrPhnNmbr</td>\n",
       "      <td>Website</td>\n",
       "      <td>Email_Address</td>\n",
       "      <td>Head_Office_Address</td>\n",
       "      <td>PostCd</td>\n",
       "      <td>NaN</td>\n",
       "    </tr>\n",
       "    <tr>\n",
       "      <th>1</th>\n",
       "      <td>Accommodation/Tenancy</td>\n",
       "      <td>1 Primary Care Services Pty Ltd</td>\n",
       "      <td>North Strathfield</td>\n",
       "      <td>0460 297 297</td>\n",
       "      <td>www.primarycareservices.com.au</td>\n",
       "      <td>raj@primarycareservices.com.au</td>\n",
       "      <td>9, George Street, North Strathfield, NSW 2137</td>\n",
       "      <td>2137</td>\n",
       "      <td>1.0</td>\n",
       "    </tr>\n",
       "  </tbody>\n",
       "</table>\n",
       "</div>"
      ],
      "text/plain": [
       "  List of Registered Providers in Northern Territory (NT) by Registration Group as at 29 March 2021  \\\n",
       "0                                 Registration_Group                                                  \n",
       "1                              Accommodation/Tenancy                                                  \n",
       "\n",
       "                        Unnamed: 1            Unnamed: 2    Unnamed: 3  \\\n",
       "0         Registered_Provider_Name  Head_Office_Location  PrvdrPhnNmbr   \n",
       "1  1 Primary Care Services Pty Ltd     North Strathfield  0460 297 297   \n",
       "\n",
       "                       Unnamed: 4                      Unnamed: 5  \\\n",
       "0                         Website                   Email_Address   \n",
       "1  www.primarycareservices.com.au  raj@primarycareservices.com.au   \n",
       "\n",
       "                                      Unnamed: 6 Unnamed: 7  Unnamed: 8  \n",
       "0                            Head_Office_Address     PostCd         NaN  \n",
       "1  9, George Street, North Strathfield, NSW 2137       2137         1.0  "
      ]
     },
     "execution_count": 10,
     "metadata": {},
     "output_type": "execute_result"
    }
   ],
   "source": [
    "ndis_df.head(2)"
   ]
  },
  {
   "cell_type": "code",
   "execution_count": 166,
   "metadata": {},
   "outputs": [
    {
     "data": {
      "text/plain": [
       "'9 Farm Cove St, Gregory Hills, NSW 2557'"
      ]
     },
     "execution_count": 166,
     "metadata": {},
     "output_type": "execute_result"
    }
   ],
   "source": [
    "addresses = ndis_df[\"Unnamed: 6\"][1:]\n",
    "addresses.reset_index(drop=True, inplace=True)\n",
    "addresses[10]"
   ]
  },
  {
   "cell_type": "code",
   "execution_count": 56,
   "metadata": {},
   "outputs": [],
   "source": [
    "## Get the Index file to GNAF\n",
    "index_df = pd.read_parquet(\"../../../data/Master/New/index.parquet\")"
   ]
  },
  {
   "cell_type": "code",
   "execution_count": 167,
   "metadata": {},
   "outputs": [
    {
     "data": {
      "text/html": [
       "<div>\n",
       "<style scoped>\n",
       "    .dataframe tbody tr th:only-of-type {\n",
       "        vertical-align: middle;\n",
       "    }\n",
       "\n",
       "    .dataframe tbody tr th {\n",
       "        vertical-align: top;\n",
       "    }\n",
       "\n",
       "    .dataframe thead th {\n",
       "        text-align: right;\n",
       "    }\n",
       "</style>\n",
       "<table border=\"1\" class=\"dataframe\">\n",
       "  <thead>\n",
       "    <tr style=\"text-align: right;\">\n",
       "      <th></th>\n",
       "      <th>IDX</th>\n",
       "      <th>STREET_NAME</th>\n",
       "      <th>STREET_TYPE_CODE</th>\n",
       "      <th>LOCALITY_NAME</th>\n",
       "      <th>STATE</th>\n",
       "      <th>POSTCODE</th>\n",
       "      <th>FILE_NAME</th>\n",
       "      <th>ADDRESS_COUNT</th>\n",
       "      <th>ADDRESS</th>\n",
       "    </tr>\n",
       "  </thead>\n",
       "  <tbody>\n",
       "    <tr>\n",
       "      <th>0</th>\n",
       "      <td>1</td>\n",
       "      <td>GRAZIER</td>\n",
       "      <td>LANE</td>\n",
       "      <td>BELCONNEN</td>\n",
       "      <td>ACT</td>\n",
       "      <td>2617</td>\n",
       "      <td>ACT-1.parquet</td>\n",
       "      <td>1917</td>\n",
       "      <td>GRAZIER LANE BELCONNEN ACT 2617</td>\n",
       "    </tr>\n",
       "    <tr>\n",
       "      <th>1</th>\n",
       "      <td>2</td>\n",
       "      <td>NORTHBOURNE</td>\n",
       "      <td>AVENUE</td>\n",
       "      <td>BRADDON</td>\n",
       "      <td>ACT</td>\n",
       "      <td>2612</td>\n",
       "      <td>ACT-1.parquet</td>\n",
       "      <td>1704</td>\n",
       "      <td>NORTHBOURNE AVENUE BRADDON ACT 2612</td>\n",
       "    </tr>\n",
       "    <tr>\n",
       "      <th>2</th>\n",
       "      <td>3</td>\n",
       "      <td>IRVING</td>\n",
       "      <td>STREET</td>\n",
       "      <td>PHILLIP</td>\n",
       "      <td>ACT</td>\n",
       "      <td>2606</td>\n",
       "      <td>ACT-1.parquet</td>\n",
       "      <td>1121</td>\n",
       "      <td>IRVING STREET PHILLIP ACT 2606</td>\n",
       "    </tr>\n",
       "  </tbody>\n",
       "</table>\n",
       "</div>"
      ],
      "text/plain": [
       "   IDX  STREET_NAME STREET_TYPE_CODE LOCALITY_NAME STATE POSTCODE  \\\n",
       "0    1      GRAZIER             LANE     BELCONNEN   ACT     2617   \n",
       "1    2  NORTHBOURNE           AVENUE       BRADDON   ACT     2612   \n",
       "2    3       IRVING           STREET       PHILLIP   ACT     2606   \n",
       "\n",
       "       FILE_NAME  ADDRESS_COUNT                              ADDRESS  \n",
       "0  ACT-1.parquet           1917      GRAZIER LANE BELCONNEN ACT 2617  \n",
       "1  ACT-1.parquet           1704  NORTHBOURNE AVENUE BRADDON ACT 2612  \n",
       "2  ACT-1.parquet           1121       IRVING STREET PHILLIP ACT 2606  "
      ]
     },
     "execution_count": 167,
     "metadata": {},
     "output_type": "execute_result"
    }
   ],
   "source": [
    "index_df.head(3)"
   ]
  },
  {
   "cell_type": "code",
   "execution_count": 20,
   "metadata": {},
   "outputs": [],
   "source": [
    "street_code_dict = {\n",
    "        'ALLY': 'ALLEY',\n",
    "         'ARC': 'ARCADE',\n",
    "         'AVE': 'AVENUE',\n",
    "         'AV': 'AVENUE',\n",
    "         'BVD': 'BOULEVARD',\n",
    "         'BYPA': 'BYPASS',\n",
    "         'CCT': 'CIRCUIT',\n",
    "         'CL': 'CLOSE',\n",
    "         'CRN': 'CORNER',\n",
    "         'CT': 'COURT',\n",
    "         'CRES': 'CRESCENT',\n",
    "         'CDS': 'CUL-DE-SAC',\n",
    "         'DR': 'DRIVE',\n",
    "         'ESP': 'ESPLANADE',\n",
    "         'GRN': 'GREEN',\n",
    "         'GR': 'GROVE',\n",
    "         'HWY': 'HIGHWAY',\n",
    "         'JNC': 'JUNCTION',\n",
    "         'LANE': 'LANE',\n",
    "         'LINK': 'LINK',\n",
    "         'MEWS': 'MEWS',\n",
    "         'PDE': 'PARADE',\n",
    "         'PL': 'PLACE',\n",
    "         'RDGE': 'RIDGE',\n",
    "         'RD': 'ROAD',\n",
    "         'SQ': 'SQUARE',\n",
    "         'ST': 'STREET',\n",
    "         'TCE': 'TERRACE'\n",
    "}"
   ]
  },
  {
   "cell_type": "code",
   "execution_count": 118,
   "metadata": {},
   "outputs": [],
   "source": [
    "def split_address(adr):   \n",
    "    while True:\n",
    "        match = re.search(\"[0-9]+[a-zA-Z,]*\\s\", adr)\n",
    "        if not match: break\n",
    "        pos = match.span()[1]    \n",
    "        adr = adr[pos:]\n",
    "    return adr.upper()    "
   ]
  },
  {
   "cell_type": "code",
   "execution_count": 128,
   "metadata": {},
   "outputs": [],
   "source": [
    "def clean_address(adr):\n",
    "    ## Clean the addresses - remove comma from \"Unity 415, 21 Buchanan Street, West End, QLD 410\"\n",
    "    clean_adr = re.sub(r\"((?:NSW|VIC|QLD|TAS|WA|SA|NT|ACT))[,\\s]*([0-9]{4})$\", r\"\\1 \\2\",adr)\n",
    "    clean_adr = clean_adr.replace(\",\", \"\").strip().upper()\n",
    "    return clean_adr"
   ]
  },
  {
   "cell_type": "code",
   "execution_count": 139,
   "metadata": {},
   "outputs": [],
   "source": [
    "def filter_state_poscode(state, postcode):\n",
    "\n",
    "    ## Firstly, Filter for the rows from the Index File based on same Postcode and State\n",
    "    pocd_st_df = index_df[(index_df.POSTCODE == postcode) & (index_df.STATE == state)]\n",
    "    if pocd_st_df.empty: return clean_adr\n",
    "    return pocd_st_df"
   ]
  },
  {
   "cell_type": "code",
   "execution_count": 170,
   "metadata": {},
   "outputs": [],
   "source": [
    "def get_filtered_suburb_list(pocd_st_df):\n",
    "    \n",
    "    ## Secondly, Filter further for same Suburbs, get the Distinct Suburb Name List first - \"LOCALITY_NAME\"\n",
    "    suburb_list = pocd_st_df.LOCALITY_NAME.unique()\n",
    "    suburbs = [sub for sub in suburb_list if sub in clean_adr]\n",
    "    #### if suburbs length is zero ????\n",
    "    return suburbs "
   ]
  },
  {
   "cell_type": "code",
   "execution_count": 159,
   "metadata": {},
   "outputs": [],
   "source": [
    "def filter_street(pocd_st_df, index, street_string):\n",
    "    \n",
    "    ## Thirdly, Filter further by Street Name within the filtered Suburb\n",
    "    subb_df = pocd_st_df[index]\n",
    "    unique_street_name_list = subb_df.STREET_NAME.unique()\n",
    "    street_name = [street_name for street_name in unique_street_name_list if street_name in street_string] \n",
    "\n",
    "    if street_name: # if street name does not exist in the data frame, suburbs maybe incorrect\n",
    "        st_df = subb_df[subb_df.STREET_NAME.isin(street_name)] \n",
    "    \n",
    "    else:\n",
    "        # find within the same post code and state again for street name\n",
    "        street_name = [street_name for street_name in unique_street_name_list if street_name in street_string]\n",
    "        st_df = pocd_st_df[pocd_st_df.STREET_NAME.isin(street_name)] \n",
    "    \n",
    "    return st_df"
   ]
  },
  {
   "cell_type": "code",
   "execution_count": 174,
   "metadata": {},
   "outputs": [],
   "source": [
    "def match_state_postcode_suburb_street_in_index_file(clean_adr):\n",
    "     \n",
    "    clean_adr = split_address(clean_adr)\n",
    "    ## Search State and Postcode and extract - example QLD 410\n",
    "    match = re.search(\"\\s((?:NSW|VIC|QLD|TAS|WA|SA|NT|ACT))\\s([0-9]{4})$\", clean_adr)\n",
    "    if not match: return clean_adr \n",
    "    state, postcode = match.group(1), match.group(2)\n",
    "      \n",
    "    ## Firstly, Filter for the rows from the Index File based on same Postcode and State\n",
    "    pocd_st_df = filter_state_poscode(state, postcode)\n",
    "    if pocd_st_df.empty: return clean_adr\n",
    "      \n",
    "    ## Secondly, Filter further for same Suburbs, get the Distinct Suburb Name List first - \"LOCALITY_NAME\"\n",
    "    suburbs = get_filtered_suburb_list(pocd_st_df)\n",
    "    if not suburbs : return clean_adr\n",
    "    \n",
    "    # Get the boolean array - of rows matching (LOCALITY_NAME) with filtered suburbs in the above list\n",
    "    index = pocd_st_df.LOCALITY_NAME.str.contains('|'.join(suburbs))\n",
    "    if not any(index): return clean_adr\n",
    "    \n",
    "    # Find Street and Street code from clean_adr to further matching by street name\n",
    "    match = re.search(f\"(?:{'|'.join(suburbs)})\\s+{state}\\s+{postcode}\", clean_adr) # sample match output - <re.Match object; span=(29, 46), match='WEST END QLD 4101'>\n",
    "    if not match: return clean_adr\n",
    "    # Extract (unit, street) from the whole address string - UNIT 415 21 ABC STREET  from \"UNIT 415 21 ABC STREET WEST END QLD 4101\"\n",
    "    street_string = clean_adr[:match.span()[0]]     \n",
    "\n",
    "    ## Thirdly, Filter further by Street Name within the filtered Suburb\n",
    "    st_df = filter_street(pocd_st_df, index, street_string)\n",
    "    \n",
    "    if st_df.empty: return clean_adr \n",
    "    \n",
    "    return st_df"
   ]
  },
  {
   "cell_type": "code",
   "execution_count": 178,
   "metadata": {},
   "outputs": [],
   "source": [
    "def match_address(adr):  \n",
    "    \n",
    "    ## Initial cleaning\n",
    "    clean_adr = clean_address(adr)\n",
    "    ## Get the narrowed down search state, postcode --> suburb --> street\n",
    "    df = match_state_postcode_suburb_street_in_index_file(clean_adr)\n",
    "    \n",
    "    print(\"df\", df)\n",
    "    match = re.search(f\"(?:({'|'.join(df.STREET_NAME.unique())}))\\s(.*)\\s((:?{'|'.join(df.LOCALITY_NAME.unique())}))\", \n",
    "            clean_adr)\n",
    "    \n",
    "    if not match: \n",
    "        match = re.search(f\"(?:({'|'.join(df.STREET_NAME.unique())}))\\s(\\S*)\\s\",clean_adr)\n",
    "        if not match: return clean_adr\n",
    "        \n",
    "        street_name = match.group(1)\n",
    "        street_code = match.group(2)\n",
    "        \n",
    "        match = re.search(f'{street_code}\\s(.+)\\s{state}', clean_adr)\n",
    "        # Suburb maybe incorrectly entered\n",
    "        suburb = match.group(1) if match else None      \n",
    "    else:\n",
    "        street_name, street_code, suburb = (match.group(i+1) for i in range(3))   \n",
    "        \n",
    "    \n",
    "    if suburb:\n",
    "        # Get the index of filter based on Street and Suburb name\n",
    "        index = (df.STREET_NAME == street_name) & (df.LOCALITY_NAME == suburb)\n",
    "        # If no exact match found, try to find matching string with Street name and Suburb\n",
    "        index = index if any(index) else (df.STREET_NAME.str.contains(street_name)) & (df.LOCALITY_NAME.str.contains(suburb))    \n",
    "        \n",
    "        # if there is no matching suburbs found, use street name only to filter\n",
    "        df = df[index] if any(index) else df[(df.STREET_NAME.str.contains(street_name))]\n",
    "    \n",
    "    else:\n",
    "        df = df[(df.STREET_NAME == street_name)]\n",
    "    \n",
    "    if df.empty: return clean_adr\n",
    "    if df.shape[0] == 1: return df.ADDRESS.iloc[0]   \n",
    "    \n",
    "    # Covert street code to long form postcode\n",
    "    street_code = street_code_dict[street_code] if street_code in street_code_dict else street_code\n",
    "    df = df[df.STREET_TYPE_CODE == street_code]\n",
    "    \n",
    "    if df.empty: return clean_adr\n",
    "    if df.shape[0] == 1: return df.ADDRESS.iloc[0]\n",
    "    return clean_adr  "
   ]
  },
  {
   "cell_type": "code",
   "execution_count": 181,
   "metadata": {},
   "outputs": [
    {
     "data": {
      "text/plain": [
       "'COLLINS STREET, MELBOURNE, VIC 3000'"
      ]
     },
     "execution_count": 181,
     "metadata": {},
     "output_type": "execute_result"
    }
   ],
   "source": [
    "##### Testing ######\n",
    "adr = \"14/595 Collins Street, Melbourne, VIC 3000\"\n",
    "df = match_state_postcode_suburb_street_in_index_file(adr)\n",
    "df"
   ]
  }
 ],
 "metadata": {
  "kernelspec": {
   "display_name": "Python 3",
   "language": "python",
   "name": "python3"
  },
  "language_info": {
   "codemirror_mode": {
    "name": "ipython",
    "version": 3
   },
   "file_extension": ".py",
   "mimetype": "text/x-python",
   "name": "python",
   "nbconvert_exporter": "python",
   "pygments_lexer": "ipython3",
   "version": "3.8.5"
  }
 },
 "nbformat": 4,
 "nbformat_minor": 4
}
